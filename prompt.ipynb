{
  "cells": [
    {
      "cell_type": "markdown",
      "metadata": {
        "id": "view-in-github",
        "colab_type": "text"
      },
      "source": [
        "<a href=\"https://colab.research.google.com/github/SatishKV/UCBAIProgram/blob/main/prompt.ipynb\" target=\"_parent\"><img src=\"https://colab.research.google.com/assets/colab-badge.svg\" alt=\"Open In Colab\"/></a>"
      ]
    },
    {
      "cell_type": "markdown",
      "metadata": {
        "id": "Gt0KVO3h4WPf"
      },
      "source": [
        "### Will a Customer Accept the Coupon?\n",
        "\n",
        "**Context**\n",
        "\n",
        "Imagine driving through town and a coupon is delivered to your cell phone for a restaraunt near where you are driving. Would you accept that coupon and take a short detour to the restaraunt? Would you accept the coupon but use it on a sunbsequent trip? Would you ignore the coupon entirely? What if the coupon was for a bar instead of a restaraunt? What about a coffee house? Would you accept a bar coupon with a minor passenger in the car? What about if it was just you and your partner in the car? Would weather impact the rate of acceptance? What about the time of day?\n",
        "\n",
        "Obviously, proximity to the business is a factor on whether the coupon is delivered to the driver or not, but what are the factors that determine whether a driver accepts the coupon once it is delivered to them? How would you determine whether a driver is likely to accept a coupon?\n",
        "\n",
        "**Overview**\n",
        "\n",
        "The goal of this project is to use what you know about visualizations and probability distributions to distinguish between customers who accepted a driving coupon versus those that did not.\n",
        "\n",
        "**Data**\n",
        "\n",
        "This data comes to us from the UCI Machine Learning repository and was collected via a survey on Amazon Mechanical Turk. The survey describes different driving scenarios including the destination, current time, weather, passenger, etc., and then ask the person whether he will accept the coupon if he is the driver. Answers that the user will drive there ‘right away’ or ‘later before the coupon expires’ are labeled as ‘Y = 1’ and answers ‘no, I do not want the coupon’ are labeled as ‘Y = 0’.  There are five different types of coupons -- less expensive restaurants (under \\\\$20), coffee houses, carry out & take away, bar, and more expensive restaurants (\\\\$20 - \\\\$50)."
      ]
    },
    {
      "cell_type": "markdown",
      "metadata": {
        "id": "X6_PxfEz4WPh"
      },
      "source": [
        "**Deliverables**\n",
        "\n",
        "Your final product should be a brief report that highlights the differences between customers who did and did not accept the coupons.  To explore the data you will utilize your knowledge of plotting, statistical summaries, and visualization using Python. You will publish your findings in a public facing github repository as your first portfolio piece.\n",
        "\n",
        "\n",
        "\n"
      ]
    },
    {
      "cell_type": "markdown",
      "metadata": {
        "id": "mVyuy1sl4WPh"
      },
      "source": [
        "### Data Description\n",
        "Keep in mind that these values mentioned below are average values.\n",
        "\n",
        "The attributes of this data set include:\n",
        "1. User attributes\n",
        "    -  Gender: male, female\n",
        "    -  Age: below 21, 21 to 25, 26 to 30, etc.\n",
        "    -  Marital Status: single, married partner, unmarried partner, or widowed\n",
        "    -  Number of children: 0, 1, or more than 1\n",
        "    -  Education: high school, bachelors degree, associates degree, or graduate degree\n",
        "    -  Occupation: architecture & engineering, business & financial, etc.\n",
        "    -  Annual income: less than \\\\$12500, \\\\$12500 - \\\\$24999, \\\\$25000 - \\\\$37499, etc.\n",
        "    -  Number of times that he/she goes to a bar: 0, less than 1, 1 to 3, 4 to 8 or greater than 8\n",
        "    -  Number of times that he/she buys takeaway food: 0, less than 1, 1 to 3, 4 to 8 or greater\n",
        "    than 8\n",
        "    -  Number of times that he/she goes to a coffee house: 0, less than 1, 1 to 3, 4 to 8 or\n",
        "    greater than 8\n",
        "    -  Number of times that he/she eats at a restaurant with average expense less than \\\\$20 per\n",
        "    person: 0, less than 1, 1 to 3, 4 to 8 or greater than 8\n",
        "    -  Number of times that he/she goes to a bar: 0, less than 1, 1 to 3, 4 to 8 or greater than 8\n",
        "    \n",
        "\n",
        "2. Contextual attributes\n",
        "    - Driving destination: home, work, or no urgent destination\n",
        "    - Location of user, coupon and destination: we provide a map to show the geographical\n",
        "    location of the user, destination, and the venue, and we mark the distance between each\n",
        "    two places with time of driving. The user can see whether the venue is in the same\n",
        "    direction as the destination.\n",
        "    - Weather: sunny, rainy, or snowy\n",
        "    - Temperature: 30F, 55F, or 80F\n",
        "    - Time: 10AM, 2PM, or 6PM\n",
        "    - Passenger: alone, partner, kid(s), or friend(s)\n",
        "\n",
        "\n",
        "3. Coupon attributes\n",
        "    - time before it expires: 2 hours or one day"
      ]
    },
    {
      "cell_type": "code",
      "execution_count": 1,
      "metadata": {
        "id": "UqSsEo074WPh"
      },
      "outputs": [],
      "source": [
        "import matplotlib.pyplot as plt\n",
        "import seaborn as sns\n",
        "import pandas as pd\n",
        "import numpy as np"
      ]
    },
    {
      "cell_type": "code",
      "source": [
        "from google.colab import drive\n",
        "drive.mount('/content/drive')"
      ],
      "metadata": {
        "colab": {
          "base_uri": "https://localhost:8080/"
        },
        "id": "l-ATcWL88EzO",
        "outputId": "728ea640-5cc2-4539-ef8c-b42b6984714e"
      },
      "execution_count": 2,
      "outputs": [
        {
          "output_type": "stream",
          "name": "stdout",
          "text": [
            "Mounted at /content/drive\n"
          ]
        }
      ]
    },
    {
      "cell_type": "markdown",
      "metadata": {
        "id": "q9dKqOCq4WPi"
      },
      "source": [
        "### Problems\n",
        "\n",
        "Use the prompts below to get started with your data analysis.  \n",
        "\n",
        "1. Read in the `coupons.csv` file.\n",
        "\n",
        "\n"
      ]
    },
    {
      "cell_type": "code",
      "execution_count": 3,
      "metadata": {
        "id": "B-pGc9cQ4WPi"
      },
      "outputs": [],
      "source": [
        "data = pd.read_csv('/content/drive/My Drive/UCBerkeley/Module5/data/coupons.csv')"
      ]
    },
    {
      "cell_type": "code",
      "source": [],
      "metadata": {
        "id": "j9NiToSK8BiC"
      },
      "execution_count": null,
      "outputs": []
    },
    {
      "cell_type": "code",
      "execution_count": 4,
      "metadata": {
        "id": "y0MU2b384WPi",
        "colab": {
          "base_uri": "https://localhost:8080/",
          "height": 342
        },
        "outputId": "db0c4e69-8c52-40ed-f17f-cea8fedf64ce"
      },
      "outputs": [
        {
          "output_type": "execute_result",
          "data": {
            "text/plain": [
              "       destination  passanger weather  temperature  time  \\\n",
              "0  No Urgent Place      Alone   Sunny           55   2PM   \n",
              "1  No Urgent Place  Friend(s)   Sunny           80  10AM   \n",
              "2  No Urgent Place  Friend(s)   Sunny           80  10AM   \n",
              "3  No Urgent Place  Friend(s)   Sunny           80   2PM   \n",
              "4  No Urgent Place  Friend(s)   Sunny           80   2PM   \n",
              "\n",
              "                  coupon expiration  gender age      maritalStatus  ...  \\\n",
              "0        Restaurant(<20)         1d  Female  21  Unmarried partner  ...   \n",
              "1           Coffee House         2h  Female  21  Unmarried partner  ...   \n",
              "2  Carry out & Take away         2h  Female  21  Unmarried partner  ...   \n",
              "3           Coffee House         2h  Female  21  Unmarried partner  ...   \n",
              "4           Coffee House         1d  Female  21  Unmarried partner  ...   \n",
              "\n",
              "   CoffeeHouse CarryAway RestaurantLessThan20 Restaurant20To50  \\\n",
              "0        never       NaN                  4~8              1~3   \n",
              "1        never       NaN                  4~8              1~3   \n",
              "2        never       NaN                  4~8              1~3   \n",
              "3        never       NaN                  4~8              1~3   \n",
              "4        never       NaN                  4~8              1~3   \n",
              "\n",
              "  toCoupon_GEQ5min toCoupon_GEQ15min toCoupon_GEQ25min direction_same  \\\n",
              "0                1                 0                 0              0   \n",
              "1                1                 0                 0              0   \n",
              "2                1                 1                 0              0   \n",
              "3                1                 1                 0              0   \n",
              "4                1                 1                 0              0   \n",
              "\n",
              "  direction_opp  Y  \n",
              "0             1  1  \n",
              "1             1  0  \n",
              "2             1  1  \n",
              "3             1  0  \n",
              "4             1  0  \n",
              "\n",
              "[5 rows x 26 columns]"
            ],
            "text/html": [
              "\n",
              "  <div id=\"df-1985149b-99b7-4aec-bc7d-cb047307fd5d\" class=\"colab-df-container\">\n",
              "    <div>\n",
              "<style scoped>\n",
              "    .dataframe tbody tr th:only-of-type {\n",
              "        vertical-align: middle;\n",
              "    }\n",
              "\n",
              "    .dataframe tbody tr th {\n",
              "        vertical-align: top;\n",
              "    }\n",
              "\n",
              "    .dataframe thead th {\n",
              "        text-align: right;\n",
              "    }\n",
              "</style>\n",
              "<table border=\"1\" class=\"dataframe\">\n",
              "  <thead>\n",
              "    <tr style=\"text-align: right;\">\n",
              "      <th></th>\n",
              "      <th>destination</th>\n",
              "      <th>passanger</th>\n",
              "      <th>weather</th>\n",
              "      <th>temperature</th>\n",
              "      <th>time</th>\n",
              "      <th>coupon</th>\n",
              "      <th>expiration</th>\n",
              "      <th>gender</th>\n",
              "      <th>age</th>\n",
              "      <th>maritalStatus</th>\n",
              "      <th>...</th>\n",
              "      <th>CoffeeHouse</th>\n",
              "      <th>CarryAway</th>\n",
              "      <th>RestaurantLessThan20</th>\n",
              "      <th>Restaurant20To50</th>\n",
              "      <th>toCoupon_GEQ5min</th>\n",
              "      <th>toCoupon_GEQ15min</th>\n",
              "      <th>toCoupon_GEQ25min</th>\n",
              "      <th>direction_same</th>\n",
              "      <th>direction_opp</th>\n",
              "      <th>Y</th>\n",
              "    </tr>\n",
              "  </thead>\n",
              "  <tbody>\n",
              "    <tr>\n",
              "      <th>0</th>\n",
              "      <td>No Urgent Place</td>\n",
              "      <td>Alone</td>\n",
              "      <td>Sunny</td>\n",
              "      <td>55</td>\n",
              "      <td>2PM</td>\n",
              "      <td>Restaurant(&lt;20)</td>\n",
              "      <td>1d</td>\n",
              "      <td>Female</td>\n",
              "      <td>21</td>\n",
              "      <td>Unmarried partner</td>\n",
              "      <td>...</td>\n",
              "      <td>never</td>\n",
              "      <td>NaN</td>\n",
              "      <td>4~8</td>\n",
              "      <td>1~3</td>\n",
              "      <td>1</td>\n",
              "      <td>0</td>\n",
              "      <td>0</td>\n",
              "      <td>0</td>\n",
              "      <td>1</td>\n",
              "      <td>1</td>\n",
              "    </tr>\n",
              "    <tr>\n",
              "      <th>1</th>\n",
              "      <td>No Urgent Place</td>\n",
              "      <td>Friend(s)</td>\n",
              "      <td>Sunny</td>\n",
              "      <td>80</td>\n",
              "      <td>10AM</td>\n",
              "      <td>Coffee House</td>\n",
              "      <td>2h</td>\n",
              "      <td>Female</td>\n",
              "      <td>21</td>\n",
              "      <td>Unmarried partner</td>\n",
              "      <td>...</td>\n",
              "      <td>never</td>\n",
              "      <td>NaN</td>\n",
              "      <td>4~8</td>\n",
              "      <td>1~3</td>\n",
              "      <td>1</td>\n",
              "      <td>0</td>\n",
              "      <td>0</td>\n",
              "      <td>0</td>\n",
              "      <td>1</td>\n",
              "      <td>0</td>\n",
              "    </tr>\n",
              "    <tr>\n",
              "      <th>2</th>\n",
              "      <td>No Urgent Place</td>\n",
              "      <td>Friend(s)</td>\n",
              "      <td>Sunny</td>\n",
              "      <td>80</td>\n",
              "      <td>10AM</td>\n",
              "      <td>Carry out &amp; Take away</td>\n",
              "      <td>2h</td>\n",
              "      <td>Female</td>\n",
              "      <td>21</td>\n",
              "      <td>Unmarried partner</td>\n",
              "      <td>...</td>\n",
              "      <td>never</td>\n",
              "      <td>NaN</td>\n",
              "      <td>4~8</td>\n",
              "      <td>1~3</td>\n",
              "      <td>1</td>\n",
              "      <td>1</td>\n",
              "      <td>0</td>\n",
              "      <td>0</td>\n",
              "      <td>1</td>\n",
              "      <td>1</td>\n",
              "    </tr>\n",
              "    <tr>\n",
              "      <th>3</th>\n",
              "      <td>No Urgent Place</td>\n",
              "      <td>Friend(s)</td>\n",
              "      <td>Sunny</td>\n",
              "      <td>80</td>\n",
              "      <td>2PM</td>\n",
              "      <td>Coffee House</td>\n",
              "      <td>2h</td>\n",
              "      <td>Female</td>\n",
              "      <td>21</td>\n",
              "      <td>Unmarried partner</td>\n",
              "      <td>...</td>\n",
              "      <td>never</td>\n",
              "      <td>NaN</td>\n",
              "      <td>4~8</td>\n",
              "      <td>1~3</td>\n",
              "      <td>1</td>\n",
              "      <td>1</td>\n",
              "      <td>0</td>\n",
              "      <td>0</td>\n",
              "      <td>1</td>\n",
              "      <td>0</td>\n",
              "    </tr>\n",
              "    <tr>\n",
              "      <th>4</th>\n",
              "      <td>No Urgent Place</td>\n",
              "      <td>Friend(s)</td>\n",
              "      <td>Sunny</td>\n",
              "      <td>80</td>\n",
              "      <td>2PM</td>\n",
              "      <td>Coffee House</td>\n",
              "      <td>1d</td>\n",
              "      <td>Female</td>\n",
              "      <td>21</td>\n",
              "      <td>Unmarried partner</td>\n",
              "      <td>...</td>\n",
              "      <td>never</td>\n",
              "      <td>NaN</td>\n",
              "      <td>4~8</td>\n",
              "      <td>1~3</td>\n",
              "      <td>1</td>\n",
              "      <td>1</td>\n",
              "      <td>0</td>\n",
              "      <td>0</td>\n",
              "      <td>1</td>\n",
              "      <td>0</td>\n",
              "    </tr>\n",
              "  </tbody>\n",
              "</table>\n",
              "<p>5 rows × 26 columns</p>\n",
              "</div>\n",
              "    <div class=\"colab-df-buttons\">\n",
              "\n",
              "  <div class=\"colab-df-container\">\n",
              "    <button class=\"colab-df-convert\" onclick=\"convertToInteractive('df-1985149b-99b7-4aec-bc7d-cb047307fd5d')\"\n",
              "            title=\"Convert this dataframe to an interactive table.\"\n",
              "            style=\"display:none;\">\n",
              "\n",
              "  <svg xmlns=\"http://www.w3.org/2000/svg\" height=\"24px\" viewBox=\"0 -960 960 960\">\n",
              "    <path d=\"M120-120v-720h720v720H120Zm60-500h600v-160H180v160Zm220 220h160v-160H400v160Zm0 220h160v-160H400v160ZM180-400h160v-160H180v160Zm440 0h160v-160H620v160ZM180-180h160v-160H180v160Zm440 0h160v-160H620v160Z\"/>\n",
              "  </svg>\n",
              "    </button>\n",
              "\n",
              "  <style>\n",
              "    .colab-df-container {\n",
              "      display:flex;\n",
              "      gap: 12px;\n",
              "    }\n",
              "\n",
              "    .colab-df-convert {\n",
              "      background-color: #E8F0FE;\n",
              "      border: none;\n",
              "      border-radius: 50%;\n",
              "      cursor: pointer;\n",
              "      display: none;\n",
              "      fill: #1967D2;\n",
              "      height: 32px;\n",
              "      padding: 0 0 0 0;\n",
              "      width: 32px;\n",
              "    }\n",
              "\n",
              "    .colab-df-convert:hover {\n",
              "      background-color: #E2EBFA;\n",
              "      box-shadow: 0px 1px 2px rgba(60, 64, 67, 0.3), 0px 1px 3px 1px rgba(60, 64, 67, 0.15);\n",
              "      fill: #174EA6;\n",
              "    }\n",
              "\n",
              "    .colab-df-buttons div {\n",
              "      margin-bottom: 4px;\n",
              "    }\n",
              "\n",
              "    [theme=dark] .colab-df-convert {\n",
              "      background-color: #3B4455;\n",
              "      fill: #D2E3FC;\n",
              "    }\n",
              "\n",
              "    [theme=dark] .colab-df-convert:hover {\n",
              "      background-color: #434B5C;\n",
              "      box-shadow: 0px 1px 3px 1px rgba(0, 0, 0, 0.15);\n",
              "      filter: drop-shadow(0px 1px 2px rgba(0, 0, 0, 0.3));\n",
              "      fill: #FFFFFF;\n",
              "    }\n",
              "  </style>\n",
              "\n",
              "    <script>\n",
              "      const buttonEl =\n",
              "        document.querySelector('#df-1985149b-99b7-4aec-bc7d-cb047307fd5d button.colab-df-convert');\n",
              "      buttonEl.style.display =\n",
              "        google.colab.kernel.accessAllowed ? 'block' : 'none';\n",
              "\n",
              "      async function convertToInteractive(key) {\n",
              "        const element = document.querySelector('#df-1985149b-99b7-4aec-bc7d-cb047307fd5d');\n",
              "        const dataTable =\n",
              "          await google.colab.kernel.invokeFunction('convertToInteractive',\n",
              "                                                    [key], {});\n",
              "        if (!dataTable) return;\n",
              "\n",
              "        const docLinkHtml = 'Like what you see? Visit the ' +\n",
              "          '<a target=\"_blank\" href=https://colab.research.google.com/notebooks/data_table.ipynb>data table notebook</a>'\n",
              "          + ' to learn more about interactive tables.';\n",
              "        element.innerHTML = '';\n",
              "        dataTable['output_type'] = 'display_data';\n",
              "        await google.colab.output.renderOutput(dataTable, element);\n",
              "        const docLink = document.createElement('div');\n",
              "        docLink.innerHTML = docLinkHtml;\n",
              "        element.appendChild(docLink);\n",
              "      }\n",
              "    </script>\n",
              "  </div>\n",
              "\n",
              "\n",
              "<div id=\"df-44fe0373-f02f-425c-bba3-b2bdd7f57a9d\">\n",
              "  <button class=\"colab-df-quickchart\" onclick=\"quickchart('df-44fe0373-f02f-425c-bba3-b2bdd7f57a9d')\"\n",
              "            title=\"Suggest charts\"\n",
              "            style=\"display:none;\">\n",
              "\n",
              "<svg xmlns=\"http://www.w3.org/2000/svg\" height=\"24px\"viewBox=\"0 0 24 24\"\n",
              "     width=\"24px\">\n",
              "    <g>\n",
              "        <path d=\"M19 3H5c-1.1 0-2 .9-2 2v14c0 1.1.9 2 2 2h14c1.1 0 2-.9 2-2V5c0-1.1-.9-2-2-2zM9 17H7v-7h2v7zm4 0h-2V7h2v10zm4 0h-2v-4h2v4z\"/>\n",
              "    </g>\n",
              "</svg>\n",
              "  </button>\n",
              "\n",
              "<style>\n",
              "  .colab-df-quickchart {\n",
              "      --bg-color: #E8F0FE;\n",
              "      --fill-color: #1967D2;\n",
              "      --hover-bg-color: #E2EBFA;\n",
              "      --hover-fill-color: #174EA6;\n",
              "      --disabled-fill-color: #AAA;\n",
              "      --disabled-bg-color: #DDD;\n",
              "  }\n",
              "\n",
              "  [theme=dark] .colab-df-quickchart {\n",
              "      --bg-color: #3B4455;\n",
              "      --fill-color: #D2E3FC;\n",
              "      --hover-bg-color: #434B5C;\n",
              "      --hover-fill-color: #FFFFFF;\n",
              "      --disabled-bg-color: #3B4455;\n",
              "      --disabled-fill-color: #666;\n",
              "  }\n",
              "\n",
              "  .colab-df-quickchart {\n",
              "    background-color: var(--bg-color);\n",
              "    border: none;\n",
              "    border-radius: 50%;\n",
              "    cursor: pointer;\n",
              "    display: none;\n",
              "    fill: var(--fill-color);\n",
              "    height: 32px;\n",
              "    padding: 0;\n",
              "    width: 32px;\n",
              "  }\n",
              "\n",
              "  .colab-df-quickchart:hover {\n",
              "    background-color: var(--hover-bg-color);\n",
              "    box-shadow: 0 1px 2px rgba(60, 64, 67, 0.3), 0 1px 3px 1px rgba(60, 64, 67, 0.15);\n",
              "    fill: var(--button-hover-fill-color);\n",
              "  }\n",
              "\n",
              "  .colab-df-quickchart-complete:disabled,\n",
              "  .colab-df-quickchart-complete:disabled:hover {\n",
              "    background-color: var(--disabled-bg-color);\n",
              "    fill: var(--disabled-fill-color);\n",
              "    box-shadow: none;\n",
              "  }\n",
              "\n",
              "  .colab-df-spinner {\n",
              "    border: 2px solid var(--fill-color);\n",
              "    border-color: transparent;\n",
              "    border-bottom-color: var(--fill-color);\n",
              "    animation:\n",
              "      spin 1s steps(1) infinite;\n",
              "  }\n",
              "\n",
              "  @keyframes spin {\n",
              "    0% {\n",
              "      border-color: transparent;\n",
              "      border-bottom-color: var(--fill-color);\n",
              "      border-left-color: var(--fill-color);\n",
              "    }\n",
              "    20% {\n",
              "      border-color: transparent;\n",
              "      border-left-color: var(--fill-color);\n",
              "      border-top-color: var(--fill-color);\n",
              "    }\n",
              "    30% {\n",
              "      border-color: transparent;\n",
              "      border-left-color: var(--fill-color);\n",
              "      border-top-color: var(--fill-color);\n",
              "      border-right-color: var(--fill-color);\n",
              "    }\n",
              "    40% {\n",
              "      border-color: transparent;\n",
              "      border-right-color: var(--fill-color);\n",
              "      border-top-color: var(--fill-color);\n",
              "    }\n",
              "    60% {\n",
              "      border-color: transparent;\n",
              "      border-right-color: var(--fill-color);\n",
              "    }\n",
              "    80% {\n",
              "      border-color: transparent;\n",
              "      border-right-color: var(--fill-color);\n",
              "      border-bottom-color: var(--fill-color);\n",
              "    }\n",
              "    90% {\n",
              "      border-color: transparent;\n",
              "      border-bottom-color: var(--fill-color);\n",
              "    }\n",
              "  }\n",
              "</style>\n",
              "\n",
              "  <script>\n",
              "    async function quickchart(key) {\n",
              "      const quickchartButtonEl =\n",
              "        document.querySelector('#' + key + ' button');\n",
              "      quickchartButtonEl.disabled = true;  // To prevent multiple clicks.\n",
              "      quickchartButtonEl.classList.add('colab-df-spinner');\n",
              "      try {\n",
              "        const charts = await google.colab.kernel.invokeFunction(\n",
              "            'suggestCharts', [key], {});\n",
              "      } catch (error) {\n",
              "        console.error('Error during call to suggestCharts:', error);\n",
              "      }\n",
              "      quickchartButtonEl.classList.remove('colab-df-spinner');\n",
              "      quickchartButtonEl.classList.add('colab-df-quickchart-complete');\n",
              "    }\n",
              "    (() => {\n",
              "      let quickchartButtonEl =\n",
              "        document.querySelector('#df-44fe0373-f02f-425c-bba3-b2bdd7f57a9d button');\n",
              "      quickchartButtonEl.style.display =\n",
              "        google.colab.kernel.accessAllowed ? 'block' : 'none';\n",
              "    })();\n",
              "  </script>\n",
              "</div>\n",
              "\n",
              "    </div>\n",
              "  </div>\n"
            ]
          },
          "metadata": {},
          "execution_count": 4
        }
      ],
      "source": [
        "data.head()"
      ]
    },
    {
      "cell_type": "code",
      "source": [
        "# getting details about the total number of rows and columns\n",
        "data.shape"
      ],
      "metadata": {
        "id": "8W03vPZD4iio",
        "colab": {
          "base_uri": "https://localhost:8080/"
        },
        "outputId": "9f26ae29-d898-465a-ea3e-d9e2531a9132"
      },
      "execution_count": 5,
      "outputs": [
        {
          "output_type": "execute_result",
          "data": {
            "text/plain": [
              "(12684, 26)"
            ]
          },
          "metadata": {},
          "execution_count": 5
        }
      ]
    },
    {
      "cell_type": "markdown",
      "metadata": {
        "id": "FiDTyDLB4WPi"
      },
      "source": [
        "2. Investigate the dataset for missing or problematic data."
      ]
    },
    {
      "cell_type": "code",
      "execution_count": 6,
      "metadata": {
        "id": "Mn-nLccH4WPj",
        "colab": {
          "base_uri": "https://localhost:8080/"
        },
        "outputId": "85a094d3-6c09-4150-f681-cfe42c42fbe5"
      },
      "outputs": [
        {
          "output_type": "stream",
          "name": "stdout",
          "text": [
            "<class 'pandas.core.frame.DataFrame'>\n",
            "RangeIndex: 12684 entries, 0 to 12683\n",
            "Data columns (total 26 columns):\n",
            " #   Column                Non-Null Count  Dtype \n",
            "---  ------                --------------  ----- \n",
            " 0   destination           12684 non-null  object\n",
            " 1   passanger             12684 non-null  object\n",
            " 2   weather               12684 non-null  object\n",
            " 3   temperature           12684 non-null  int64 \n",
            " 4   time                  12684 non-null  object\n",
            " 5   coupon                12684 non-null  object\n",
            " 6   expiration            12684 non-null  object\n",
            " 7   gender                12684 non-null  object\n",
            " 8   age                   12684 non-null  object\n",
            " 9   maritalStatus         12684 non-null  object\n",
            " 10  has_children          12684 non-null  int64 \n",
            " 11  education             12684 non-null  object\n",
            " 12  occupation            12684 non-null  object\n",
            " 13  income                12684 non-null  object\n",
            " 14  car                   108 non-null    object\n",
            " 15  Bar                   12577 non-null  object\n",
            " 16  CoffeeHouse           12467 non-null  object\n",
            " 17  CarryAway             12533 non-null  object\n",
            " 18  RestaurantLessThan20  12554 non-null  object\n",
            " 19  Restaurant20To50      12495 non-null  object\n",
            " 20  toCoupon_GEQ5min      12684 non-null  int64 \n",
            " 21  toCoupon_GEQ15min     12684 non-null  int64 \n",
            " 22  toCoupon_GEQ25min     12684 non-null  int64 \n",
            " 23  direction_same        12684 non-null  int64 \n",
            " 24  direction_opp         12684 non-null  int64 \n",
            " 25  Y                     12684 non-null  int64 \n",
            "dtypes: int64(8), object(18)\n",
            "memory usage: 2.5+ MB\n"
          ]
        }
      ],
      "source": [
        "# Column details including data types\n",
        "data.info()"
      ]
    },
    {
      "cell_type": "markdown",
      "metadata": {
        "id": "0H8d5Mzw4WPj"
      },
      "source": [
        "3. Decide what to do about your missing data -- drop, replace, other..."
      ]
    },
    {
      "cell_type": "code",
      "execution_count": 7,
      "metadata": {
        "id": "UPHXAWJn4WPj",
        "colab": {
          "base_uri": "https://localhost:8080/"
        },
        "outputId": "b8fe20e2-4f0e-42af-a55f-0a92b1c9c956"
      },
      "outputs": [
        {
          "output_type": "execute_result",
          "data": {
            "text/plain": [
              "destination                 0\n",
              "passanger                   0\n",
              "weather                     0\n",
              "temperature                 0\n",
              "time                        0\n",
              "coupon                      0\n",
              "expiration                  0\n",
              "gender                      0\n",
              "age                         0\n",
              "maritalStatus               0\n",
              "has_children                0\n",
              "education                   0\n",
              "occupation                  0\n",
              "income                      0\n",
              "car                     12576\n",
              "Bar                       107\n",
              "CoffeeHouse               217\n",
              "CarryAway                 151\n",
              "RestaurantLessThan20      130\n",
              "Restaurant20To50          189\n",
              "toCoupon_GEQ5min            0\n",
              "toCoupon_GEQ15min           0\n",
              "toCoupon_GEQ25min           0\n",
              "direction_same              0\n",
              "direction_opp               0\n",
              "Y                           0\n",
              "dtype: int64"
            ]
          },
          "metadata": {},
          "execution_count": 7
        }
      ],
      "source": [
        "# validate for null values in the columns\n",
        "data.isna().sum()\n"
      ]
    },
    {
      "cell_type": "code",
      "source": [
        "# data cleaning - removing the car column since it has all null values\n",
        "data = data.drop(['car'], axis=1)\n"
      ],
      "metadata": {
        "id": "h1ruLvuQAXc5"
      },
      "execution_count": 8,
      "outputs": []
    },
    {
      "cell_type": "code",
      "source": [
        "# mapping non-numeric data to numeric. This will help to understand the correlation between various columns\n",
        "convertpassanger = {\n",
        "  r'Alone.*': '1',\n",
        "  r'Friend.*': '2',\n",
        "  r'Partner.*': '3',\n",
        "  r'Kid.*': '4',\n",
        " }\n",
        "converteducation = {\n",
        "  r'Some.*': '1',\n",
        "  r'High.*': '2',\n",
        "  r'Associates degree.*': '3',\n",
        "  r'Bachelors.*' : '4',\n",
        "  r'Graduate.*': '5',\n",
        " }\n",
        "\n",
        "convertoccupation = {\n",
        "  r'Unemployed.*': '1',\n",
        "  r'Student.*': '2',\n",
        "  r'Computer.*': '3',\n",
        "  r'Sales.*': '4',\n",
        "  r'Education.*' : '5',\n",
        "  r'Management.*': '6',\n",
        "  r'Office.*': '7',\n",
        "  r'Arts.*': '8',\n",
        "  r'Business.*': '9',\n",
        "  r'Retired.*' : '10',\n",
        "  r'Food.*': '11',\n",
        "  r'Healthcare Practitioners.*': '12',\n",
        "  r'Healthcare Support.*': '13',\n",
        "  r'Community.*': '14',\n",
        "  r'Legal.*' : '15',\n",
        "  r'Transportation.*': '16',\n",
        "  r'Architecture.*': '17',\n",
        "  r'Personal.*': '18',\n",
        "  r'Protective.*': '19',\n",
        "  r'Life.*' : '20',\n",
        "  r'Construction.*': '21',\n",
        "  r'Installation.*': '22',\n",
        "  r'Production.*': '23',\n",
        "  r'Building.*': '24',\n",
        "  r'Farming.*' : '25'\n",
        "}\n",
        "convertage = {\n",
        "  r'50plus': '51',\n",
        "  r'below21': '20',\n",
        "}\n",
        "data['weather'] = data['weather'].map({'Sunny':'1', 'Rainy' : '2', 'Snowy':'3'})\n",
        "data['passanger'] = data['passanger'].replace(regex=convertpassanger)\n",
        "data['education'] = data['education'].replace(regex=converteducation)\n",
        "data['occupation'] = data['occupation'].replace(regex=convertoccupation)\n",
        "data['gender'] = data['gender'].map({'Male': '1', 'Female': '2'})\n",
        "data['age'] = data['age'].replace(regex=convertage)\n",
        "\n",
        "data = data.astype({'weather': 'int64', 'passanger': 'int64', 'education': 'int64', 'occupation': 'int64', 'gender': 'int64','age':'int64'})\n",
        "data.info()\n",
        "\n"
      ],
      "metadata": {
        "colab": {
          "base_uri": "https://localhost:8080/"
        },
        "id": "ZFZZdd0UqBvH",
        "outputId": "b8554b3f-c6ba-48aa-fef1-84dc457f21be"
      },
      "execution_count": 9,
      "outputs": [
        {
          "output_type": "stream",
          "name": "stdout",
          "text": [
            "<class 'pandas.core.frame.DataFrame'>\n",
            "RangeIndex: 12684 entries, 0 to 12683\n",
            "Data columns (total 25 columns):\n",
            " #   Column                Non-Null Count  Dtype \n",
            "---  ------                --------------  ----- \n",
            " 0   destination           12684 non-null  object\n",
            " 1   passanger             12684 non-null  int64 \n",
            " 2   weather               12684 non-null  int64 \n",
            " 3   temperature           12684 non-null  int64 \n",
            " 4   time                  12684 non-null  object\n",
            " 5   coupon                12684 non-null  object\n",
            " 6   expiration            12684 non-null  object\n",
            " 7   gender                12684 non-null  int64 \n",
            " 8   age                   12684 non-null  int64 \n",
            " 9   maritalStatus         12684 non-null  object\n",
            " 10  has_children          12684 non-null  int64 \n",
            " 11  education             12684 non-null  int64 \n",
            " 12  occupation            12684 non-null  int64 \n",
            " 13  income                12684 non-null  object\n",
            " 14  Bar                   12577 non-null  object\n",
            " 15  CoffeeHouse           12467 non-null  object\n",
            " 16  CarryAway             12533 non-null  object\n",
            " 17  RestaurantLessThan20  12554 non-null  object\n",
            " 18  Restaurant20To50      12495 non-null  object\n",
            " 19  toCoupon_GEQ5min      12684 non-null  int64 \n",
            " 20  toCoupon_GEQ15min     12684 non-null  int64 \n",
            " 21  toCoupon_GEQ25min     12684 non-null  int64 \n",
            " 22  direction_same        12684 non-null  int64 \n",
            " 23  direction_opp         12684 non-null  int64 \n",
            " 24  Y                     12684 non-null  int64 \n",
            "dtypes: int64(14), object(11)\n",
            "memory usage: 2.4+ MB\n"
          ]
        }
      ]
    },
    {
      "cell_type": "markdown",
      "metadata": {
        "id": "RozjN0NA4WPj"
      },
      "source": [
        "4. What proportion of the total observations chose to accept the coupon?\n",
        "\n"
      ]
    },
    {
      "cell_type": "code",
      "execution_count": 10,
      "metadata": {
        "id": "_Cv8x5hp4WPj",
        "colab": {
          "base_uri": "https://localhost:8080/",
          "height": 544
        },
        "outputId": "26f1e826-38c7-45f1-fb8f-060f26c5923e"
      },
      "outputs": [
        {
          "output_type": "stream",
          "name": "stderr",
          "text": [
            "<ipython-input-10-c44ded798807>:1: FutureWarning: The default value of numeric_only in DataFrame.corr is deprecated. In a future version, it will default to False. Select only valid columns or specify the value of numeric_only to silence this warning.\n",
            "  data.corr()\n"
          ]
        },
        {
          "output_type": "execute_result",
          "data": {
            "text/plain": [
              "                   passanger   weather  temperature    gender       age  \\\n",
              "passanger           1.000000 -0.105162     0.066040  0.038311  0.072036   \n",
              "weather            -0.105162  1.000000    -0.644462 -0.028733  0.008589   \n",
              "temperature         0.066040 -0.644462     1.000000  0.025504 -0.020272   \n",
              "gender              0.038311 -0.028733     0.025504  1.000000  0.098356   \n",
              "age                 0.072036  0.008589    -0.020272  0.098356  1.000000   \n",
              "has_children        0.179571 -0.004561    -0.019716  0.159956  0.439486   \n",
              "education           0.026901  0.001524     0.005414  0.009434  0.132882   \n",
              "occupation          0.014324  0.005684    -0.008900 -0.041461  0.254383   \n",
              "toCoupon_GEQ5min         NaN       NaN          NaN       NaN       NaN   \n",
              "toCoupon_GEQ15min   0.121877  0.135348    -0.155332  0.007028  0.036076   \n",
              "toCoupon_GEQ25min  -0.217041  0.228036    -0.216254 -0.002743 -0.002450   \n",
              "direction_same     -0.286984 -0.057531     0.097085  0.004496 -0.029046   \n",
              "direction_opp       0.286984  0.057531    -0.097085 -0.004496  0.029046   \n",
              "Y                   0.036345 -0.096949     0.061240 -0.043969 -0.057376   \n",
              "\n",
              "                   has_children  education  occupation  toCoupon_GEQ5min  \\\n",
              "passanger              0.179571   0.026901    0.014324               NaN   \n",
              "weather               -0.004561   0.001524    0.005684               NaN   \n",
              "temperature           -0.019716   0.005414   -0.008900               NaN   \n",
              "gender                 0.159956   0.009434   -0.041461               NaN   \n",
              "age                    0.439486   0.132882    0.254383               NaN   \n",
              "has_children           1.000000   0.066453    0.088195               NaN   \n",
              "education              0.066453   1.000000    0.030901               NaN   \n",
              "occupation             0.088195   0.030901    1.000000               NaN   \n",
              "toCoupon_GEQ5min            NaN        NaN         NaN               NaN   \n",
              "toCoupon_GEQ15min      0.078211   0.021250    0.018578               NaN   \n",
              "toCoupon_GEQ25min     -0.013722   0.008484   -0.002227               NaN   \n",
              "direction_same        -0.031620   0.002557   -0.025935               NaN   \n",
              "direction_opp          0.031620  -0.002557    0.025935               NaN   \n",
              "Y                     -0.045557  -0.052400    0.011348               NaN   \n",
              "\n",
              "                   toCoupon_GEQ15min  toCoupon_GEQ25min  direction_same  \\\n",
              "passanger                   0.121877          -0.217041       -0.286984   \n",
              "weather                     0.135348           0.228036       -0.057531   \n",
              "temperature                -0.155332          -0.216254        0.097085   \n",
              "gender                      0.007028          -0.002743        0.004496   \n",
              "age                         0.036076          -0.002450       -0.029046   \n",
              "has_children                0.078211          -0.013722       -0.031620   \n",
              "education                   0.021250           0.008484        0.002557   \n",
              "occupation                  0.018578          -0.002227       -0.025935   \n",
              "toCoupon_GEQ5min                 NaN                NaN             NaN   \n",
              "toCoupon_GEQ15min           1.000000           0.324984       -0.303533   \n",
              "toCoupon_GEQ25min           0.324984           1.000000       -0.192319   \n",
              "direction_same             -0.303533          -0.192319        1.000000   \n",
              "direction_opp               0.303533           0.192319       -1.000000   \n",
              "Y                          -0.081602          -0.103633        0.014570   \n",
              "\n",
              "                   direction_opp         Y  \n",
              "passanger               0.286984  0.036345  \n",
              "weather                 0.057531 -0.096949  \n",
              "temperature            -0.097085  0.061240  \n",
              "gender                 -0.004496 -0.043969  \n",
              "age                     0.029046 -0.057376  \n",
              "has_children            0.031620 -0.045557  \n",
              "education              -0.002557 -0.052400  \n",
              "occupation              0.025935  0.011348  \n",
              "toCoupon_GEQ5min             NaN       NaN  \n",
              "toCoupon_GEQ15min       0.303533 -0.081602  \n",
              "toCoupon_GEQ25min       0.192319 -0.103633  \n",
              "direction_same         -1.000000  0.014570  \n",
              "direction_opp           1.000000 -0.014570  \n",
              "Y                      -0.014570  1.000000  "
            ],
            "text/html": [
              "\n",
              "  <div id=\"df-d4a64df9-6814-465b-9a7b-ea94ce49b7c5\" class=\"colab-df-container\">\n",
              "    <div>\n",
              "<style scoped>\n",
              "    .dataframe tbody tr th:only-of-type {\n",
              "        vertical-align: middle;\n",
              "    }\n",
              "\n",
              "    .dataframe tbody tr th {\n",
              "        vertical-align: top;\n",
              "    }\n",
              "\n",
              "    .dataframe thead th {\n",
              "        text-align: right;\n",
              "    }\n",
              "</style>\n",
              "<table border=\"1\" class=\"dataframe\">\n",
              "  <thead>\n",
              "    <tr style=\"text-align: right;\">\n",
              "      <th></th>\n",
              "      <th>passanger</th>\n",
              "      <th>weather</th>\n",
              "      <th>temperature</th>\n",
              "      <th>gender</th>\n",
              "      <th>age</th>\n",
              "      <th>has_children</th>\n",
              "      <th>education</th>\n",
              "      <th>occupation</th>\n",
              "      <th>toCoupon_GEQ5min</th>\n",
              "      <th>toCoupon_GEQ15min</th>\n",
              "      <th>toCoupon_GEQ25min</th>\n",
              "      <th>direction_same</th>\n",
              "      <th>direction_opp</th>\n",
              "      <th>Y</th>\n",
              "    </tr>\n",
              "  </thead>\n",
              "  <tbody>\n",
              "    <tr>\n",
              "      <th>passanger</th>\n",
              "      <td>1.000000</td>\n",
              "      <td>-0.105162</td>\n",
              "      <td>0.066040</td>\n",
              "      <td>0.038311</td>\n",
              "      <td>0.072036</td>\n",
              "      <td>0.179571</td>\n",
              "      <td>0.026901</td>\n",
              "      <td>0.014324</td>\n",
              "      <td>NaN</td>\n",
              "      <td>0.121877</td>\n",
              "      <td>-0.217041</td>\n",
              "      <td>-0.286984</td>\n",
              "      <td>0.286984</td>\n",
              "      <td>0.036345</td>\n",
              "    </tr>\n",
              "    <tr>\n",
              "      <th>weather</th>\n",
              "      <td>-0.105162</td>\n",
              "      <td>1.000000</td>\n",
              "      <td>-0.644462</td>\n",
              "      <td>-0.028733</td>\n",
              "      <td>0.008589</td>\n",
              "      <td>-0.004561</td>\n",
              "      <td>0.001524</td>\n",
              "      <td>0.005684</td>\n",
              "      <td>NaN</td>\n",
              "      <td>0.135348</td>\n",
              "      <td>0.228036</td>\n",
              "      <td>-0.057531</td>\n",
              "      <td>0.057531</td>\n",
              "      <td>-0.096949</td>\n",
              "    </tr>\n",
              "    <tr>\n",
              "      <th>temperature</th>\n",
              "      <td>0.066040</td>\n",
              "      <td>-0.644462</td>\n",
              "      <td>1.000000</td>\n",
              "      <td>0.025504</td>\n",
              "      <td>-0.020272</td>\n",
              "      <td>-0.019716</td>\n",
              "      <td>0.005414</td>\n",
              "      <td>-0.008900</td>\n",
              "      <td>NaN</td>\n",
              "      <td>-0.155332</td>\n",
              "      <td>-0.216254</td>\n",
              "      <td>0.097085</td>\n",
              "      <td>-0.097085</td>\n",
              "      <td>0.061240</td>\n",
              "    </tr>\n",
              "    <tr>\n",
              "      <th>gender</th>\n",
              "      <td>0.038311</td>\n",
              "      <td>-0.028733</td>\n",
              "      <td>0.025504</td>\n",
              "      <td>1.000000</td>\n",
              "      <td>0.098356</td>\n",
              "      <td>0.159956</td>\n",
              "      <td>0.009434</td>\n",
              "      <td>-0.041461</td>\n",
              "      <td>NaN</td>\n",
              "      <td>0.007028</td>\n",
              "      <td>-0.002743</td>\n",
              "      <td>0.004496</td>\n",
              "      <td>-0.004496</td>\n",
              "      <td>-0.043969</td>\n",
              "    </tr>\n",
              "    <tr>\n",
              "      <th>age</th>\n",
              "      <td>0.072036</td>\n",
              "      <td>0.008589</td>\n",
              "      <td>-0.020272</td>\n",
              "      <td>0.098356</td>\n",
              "      <td>1.000000</td>\n",
              "      <td>0.439486</td>\n",
              "      <td>0.132882</td>\n",
              "      <td>0.254383</td>\n",
              "      <td>NaN</td>\n",
              "      <td>0.036076</td>\n",
              "      <td>-0.002450</td>\n",
              "      <td>-0.029046</td>\n",
              "      <td>0.029046</td>\n",
              "      <td>-0.057376</td>\n",
              "    </tr>\n",
              "    <tr>\n",
              "      <th>has_children</th>\n",
              "      <td>0.179571</td>\n",
              "      <td>-0.004561</td>\n",
              "      <td>-0.019716</td>\n",
              "      <td>0.159956</td>\n",
              "      <td>0.439486</td>\n",
              "      <td>1.000000</td>\n",
              "      <td>0.066453</td>\n",
              "      <td>0.088195</td>\n",
              "      <td>NaN</td>\n",
              "      <td>0.078211</td>\n",
              "      <td>-0.013722</td>\n",
              "      <td>-0.031620</td>\n",
              "      <td>0.031620</td>\n",
              "      <td>-0.045557</td>\n",
              "    </tr>\n",
              "    <tr>\n",
              "      <th>education</th>\n",
              "      <td>0.026901</td>\n",
              "      <td>0.001524</td>\n",
              "      <td>0.005414</td>\n",
              "      <td>0.009434</td>\n",
              "      <td>0.132882</td>\n",
              "      <td>0.066453</td>\n",
              "      <td>1.000000</td>\n",
              "      <td>0.030901</td>\n",
              "      <td>NaN</td>\n",
              "      <td>0.021250</td>\n",
              "      <td>0.008484</td>\n",
              "      <td>0.002557</td>\n",
              "      <td>-0.002557</td>\n",
              "      <td>-0.052400</td>\n",
              "    </tr>\n",
              "    <tr>\n",
              "      <th>occupation</th>\n",
              "      <td>0.014324</td>\n",
              "      <td>0.005684</td>\n",
              "      <td>-0.008900</td>\n",
              "      <td>-0.041461</td>\n",
              "      <td>0.254383</td>\n",
              "      <td>0.088195</td>\n",
              "      <td>0.030901</td>\n",
              "      <td>1.000000</td>\n",
              "      <td>NaN</td>\n",
              "      <td>0.018578</td>\n",
              "      <td>-0.002227</td>\n",
              "      <td>-0.025935</td>\n",
              "      <td>0.025935</td>\n",
              "      <td>0.011348</td>\n",
              "    </tr>\n",
              "    <tr>\n",
              "      <th>toCoupon_GEQ5min</th>\n",
              "      <td>NaN</td>\n",
              "      <td>NaN</td>\n",
              "      <td>NaN</td>\n",
              "      <td>NaN</td>\n",
              "      <td>NaN</td>\n",
              "      <td>NaN</td>\n",
              "      <td>NaN</td>\n",
              "      <td>NaN</td>\n",
              "      <td>NaN</td>\n",
              "      <td>NaN</td>\n",
              "      <td>NaN</td>\n",
              "      <td>NaN</td>\n",
              "      <td>NaN</td>\n",
              "      <td>NaN</td>\n",
              "    </tr>\n",
              "    <tr>\n",
              "      <th>toCoupon_GEQ15min</th>\n",
              "      <td>0.121877</td>\n",
              "      <td>0.135348</td>\n",
              "      <td>-0.155332</td>\n",
              "      <td>0.007028</td>\n",
              "      <td>0.036076</td>\n",
              "      <td>0.078211</td>\n",
              "      <td>0.021250</td>\n",
              "      <td>0.018578</td>\n",
              "      <td>NaN</td>\n",
              "      <td>1.000000</td>\n",
              "      <td>0.324984</td>\n",
              "      <td>-0.303533</td>\n",
              "      <td>0.303533</td>\n",
              "      <td>-0.081602</td>\n",
              "    </tr>\n",
              "    <tr>\n",
              "      <th>toCoupon_GEQ25min</th>\n",
              "      <td>-0.217041</td>\n",
              "      <td>0.228036</td>\n",
              "      <td>-0.216254</td>\n",
              "      <td>-0.002743</td>\n",
              "      <td>-0.002450</td>\n",
              "      <td>-0.013722</td>\n",
              "      <td>0.008484</td>\n",
              "      <td>-0.002227</td>\n",
              "      <td>NaN</td>\n",
              "      <td>0.324984</td>\n",
              "      <td>1.000000</td>\n",
              "      <td>-0.192319</td>\n",
              "      <td>0.192319</td>\n",
              "      <td>-0.103633</td>\n",
              "    </tr>\n",
              "    <tr>\n",
              "      <th>direction_same</th>\n",
              "      <td>-0.286984</td>\n",
              "      <td>-0.057531</td>\n",
              "      <td>0.097085</td>\n",
              "      <td>0.004496</td>\n",
              "      <td>-0.029046</td>\n",
              "      <td>-0.031620</td>\n",
              "      <td>0.002557</td>\n",
              "      <td>-0.025935</td>\n",
              "      <td>NaN</td>\n",
              "      <td>-0.303533</td>\n",
              "      <td>-0.192319</td>\n",
              "      <td>1.000000</td>\n",
              "      <td>-1.000000</td>\n",
              "      <td>0.014570</td>\n",
              "    </tr>\n",
              "    <tr>\n",
              "      <th>direction_opp</th>\n",
              "      <td>0.286984</td>\n",
              "      <td>0.057531</td>\n",
              "      <td>-0.097085</td>\n",
              "      <td>-0.004496</td>\n",
              "      <td>0.029046</td>\n",
              "      <td>0.031620</td>\n",
              "      <td>-0.002557</td>\n",
              "      <td>0.025935</td>\n",
              "      <td>NaN</td>\n",
              "      <td>0.303533</td>\n",
              "      <td>0.192319</td>\n",
              "      <td>-1.000000</td>\n",
              "      <td>1.000000</td>\n",
              "      <td>-0.014570</td>\n",
              "    </tr>\n",
              "    <tr>\n",
              "      <th>Y</th>\n",
              "      <td>0.036345</td>\n",
              "      <td>-0.096949</td>\n",
              "      <td>0.061240</td>\n",
              "      <td>-0.043969</td>\n",
              "      <td>-0.057376</td>\n",
              "      <td>-0.045557</td>\n",
              "      <td>-0.052400</td>\n",
              "      <td>0.011348</td>\n",
              "      <td>NaN</td>\n",
              "      <td>-0.081602</td>\n",
              "      <td>-0.103633</td>\n",
              "      <td>0.014570</td>\n",
              "      <td>-0.014570</td>\n",
              "      <td>1.000000</td>\n",
              "    </tr>\n",
              "  </tbody>\n",
              "</table>\n",
              "</div>\n",
              "    <div class=\"colab-df-buttons\">\n",
              "\n",
              "  <div class=\"colab-df-container\">\n",
              "    <button class=\"colab-df-convert\" onclick=\"convertToInteractive('df-d4a64df9-6814-465b-9a7b-ea94ce49b7c5')\"\n",
              "            title=\"Convert this dataframe to an interactive table.\"\n",
              "            style=\"display:none;\">\n",
              "\n",
              "  <svg xmlns=\"http://www.w3.org/2000/svg\" height=\"24px\" viewBox=\"0 -960 960 960\">\n",
              "    <path d=\"M120-120v-720h720v720H120Zm60-500h600v-160H180v160Zm220 220h160v-160H400v160Zm0 220h160v-160H400v160ZM180-400h160v-160H180v160Zm440 0h160v-160H620v160ZM180-180h160v-160H180v160Zm440 0h160v-160H620v160Z\"/>\n",
              "  </svg>\n",
              "    </button>\n",
              "\n",
              "  <style>\n",
              "    .colab-df-container {\n",
              "      display:flex;\n",
              "      gap: 12px;\n",
              "    }\n",
              "\n",
              "    .colab-df-convert {\n",
              "      background-color: #E8F0FE;\n",
              "      border: none;\n",
              "      border-radius: 50%;\n",
              "      cursor: pointer;\n",
              "      display: none;\n",
              "      fill: #1967D2;\n",
              "      height: 32px;\n",
              "      padding: 0 0 0 0;\n",
              "      width: 32px;\n",
              "    }\n",
              "\n",
              "    .colab-df-convert:hover {\n",
              "      background-color: #E2EBFA;\n",
              "      box-shadow: 0px 1px 2px rgba(60, 64, 67, 0.3), 0px 1px 3px 1px rgba(60, 64, 67, 0.15);\n",
              "      fill: #174EA6;\n",
              "    }\n",
              "\n",
              "    .colab-df-buttons div {\n",
              "      margin-bottom: 4px;\n",
              "    }\n",
              "\n",
              "    [theme=dark] .colab-df-convert {\n",
              "      background-color: #3B4455;\n",
              "      fill: #D2E3FC;\n",
              "    }\n",
              "\n",
              "    [theme=dark] .colab-df-convert:hover {\n",
              "      background-color: #434B5C;\n",
              "      box-shadow: 0px 1px 3px 1px rgba(0, 0, 0, 0.15);\n",
              "      filter: drop-shadow(0px 1px 2px rgba(0, 0, 0, 0.3));\n",
              "      fill: #FFFFFF;\n",
              "    }\n",
              "  </style>\n",
              "\n",
              "    <script>\n",
              "      const buttonEl =\n",
              "        document.querySelector('#df-d4a64df9-6814-465b-9a7b-ea94ce49b7c5 button.colab-df-convert');\n",
              "      buttonEl.style.display =\n",
              "        google.colab.kernel.accessAllowed ? 'block' : 'none';\n",
              "\n",
              "      async function convertToInteractive(key) {\n",
              "        const element = document.querySelector('#df-d4a64df9-6814-465b-9a7b-ea94ce49b7c5');\n",
              "        const dataTable =\n",
              "          await google.colab.kernel.invokeFunction('convertToInteractive',\n",
              "                                                    [key], {});\n",
              "        if (!dataTable) return;\n",
              "\n",
              "        const docLinkHtml = 'Like what you see? Visit the ' +\n",
              "          '<a target=\"_blank\" href=https://colab.research.google.com/notebooks/data_table.ipynb>data table notebook</a>'\n",
              "          + ' to learn more about interactive tables.';\n",
              "        element.innerHTML = '';\n",
              "        dataTable['output_type'] = 'display_data';\n",
              "        await google.colab.output.renderOutput(dataTable, element);\n",
              "        const docLink = document.createElement('div');\n",
              "        docLink.innerHTML = docLinkHtml;\n",
              "        element.appendChild(docLink);\n",
              "      }\n",
              "    </script>\n",
              "  </div>\n",
              "\n",
              "\n",
              "<div id=\"df-55283e9c-9681-458d-9d9d-dc97a75500ec\">\n",
              "  <button class=\"colab-df-quickchart\" onclick=\"quickchart('df-55283e9c-9681-458d-9d9d-dc97a75500ec')\"\n",
              "            title=\"Suggest charts\"\n",
              "            style=\"display:none;\">\n",
              "\n",
              "<svg xmlns=\"http://www.w3.org/2000/svg\" height=\"24px\"viewBox=\"0 0 24 24\"\n",
              "     width=\"24px\">\n",
              "    <g>\n",
              "        <path d=\"M19 3H5c-1.1 0-2 .9-2 2v14c0 1.1.9 2 2 2h14c1.1 0 2-.9 2-2V5c0-1.1-.9-2-2-2zM9 17H7v-7h2v7zm4 0h-2V7h2v10zm4 0h-2v-4h2v4z\"/>\n",
              "    </g>\n",
              "</svg>\n",
              "  </button>\n",
              "\n",
              "<style>\n",
              "  .colab-df-quickchart {\n",
              "      --bg-color: #E8F0FE;\n",
              "      --fill-color: #1967D2;\n",
              "      --hover-bg-color: #E2EBFA;\n",
              "      --hover-fill-color: #174EA6;\n",
              "      --disabled-fill-color: #AAA;\n",
              "      --disabled-bg-color: #DDD;\n",
              "  }\n",
              "\n",
              "  [theme=dark] .colab-df-quickchart {\n",
              "      --bg-color: #3B4455;\n",
              "      --fill-color: #D2E3FC;\n",
              "      --hover-bg-color: #434B5C;\n",
              "      --hover-fill-color: #FFFFFF;\n",
              "      --disabled-bg-color: #3B4455;\n",
              "      --disabled-fill-color: #666;\n",
              "  }\n",
              "\n",
              "  .colab-df-quickchart {\n",
              "    background-color: var(--bg-color);\n",
              "    border: none;\n",
              "    border-radius: 50%;\n",
              "    cursor: pointer;\n",
              "    display: none;\n",
              "    fill: var(--fill-color);\n",
              "    height: 32px;\n",
              "    padding: 0;\n",
              "    width: 32px;\n",
              "  }\n",
              "\n",
              "  .colab-df-quickchart:hover {\n",
              "    background-color: var(--hover-bg-color);\n",
              "    box-shadow: 0 1px 2px rgba(60, 64, 67, 0.3), 0 1px 3px 1px rgba(60, 64, 67, 0.15);\n",
              "    fill: var(--button-hover-fill-color);\n",
              "  }\n",
              "\n",
              "  .colab-df-quickchart-complete:disabled,\n",
              "  .colab-df-quickchart-complete:disabled:hover {\n",
              "    background-color: var(--disabled-bg-color);\n",
              "    fill: var(--disabled-fill-color);\n",
              "    box-shadow: none;\n",
              "  }\n",
              "\n",
              "  .colab-df-spinner {\n",
              "    border: 2px solid var(--fill-color);\n",
              "    border-color: transparent;\n",
              "    border-bottom-color: var(--fill-color);\n",
              "    animation:\n",
              "      spin 1s steps(1) infinite;\n",
              "  }\n",
              "\n",
              "  @keyframes spin {\n",
              "    0% {\n",
              "      border-color: transparent;\n",
              "      border-bottom-color: var(--fill-color);\n",
              "      border-left-color: var(--fill-color);\n",
              "    }\n",
              "    20% {\n",
              "      border-color: transparent;\n",
              "      border-left-color: var(--fill-color);\n",
              "      border-top-color: var(--fill-color);\n",
              "    }\n",
              "    30% {\n",
              "      border-color: transparent;\n",
              "      border-left-color: var(--fill-color);\n",
              "      border-top-color: var(--fill-color);\n",
              "      border-right-color: var(--fill-color);\n",
              "    }\n",
              "    40% {\n",
              "      border-color: transparent;\n",
              "      border-right-color: var(--fill-color);\n",
              "      border-top-color: var(--fill-color);\n",
              "    }\n",
              "    60% {\n",
              "      border-color: transparent;\n",
              "      border-right-color: var(--fill-color);\n",
              "    }\n",
              "    80% {\n",
              "      border-color: transparent;\n",
              "      border-right-color: var(--fill-color);\n",
              "      border-bottom-color: var(--fill-color);\n",
              "    }\n",
              "    90% {\n",
              "      border-color: transparent;\n",
              "      border-bottom-color: var(--fill-color);\n",
              "    }\n",
              "  }\n",
              "</style>\n",
              "\n",
              "  <script>\n",
              "    async function quickchart(key) {\n",
              "      const quickchartButtonEl =\n",
              "        document.querySelector('#' + key + ' button');\n",
              "      quickchartButtonEl.disabled = true;  // To prevent multiple clicks.\n",
              "      quickchartButtonEl.classList.add('colab-df-spinner');\n",
              "      try {\n",
              "        const charts = await google.colab.kernel.invokeFunction(\n",
              "            'suggestCharts', [key], {});\n",
              "      } catch (error) {\n",
              "        console.error('Error during call to suggestCharts:', error);\n",
              "      }\n",
              "      quickchartButtonEl.classList.remove('colab-df-spinner');\n",
              "      quickchartButtonEl.classList.add('colab-df-quickchart-complete');\n",
              "    }\n",
              "    (() => {\n",
              "      let quickchartButtonEl =\n",
              "        document.querySelector('#df-55283e9c-9681-458d-9d9d-dc97a75500ec button');\n",
              "      quickchartButtonEl.style.display =\n",
              "        google.colab.kernel.accessAllowed ? 'block' : 'none';\n",
              "    })();\n",
              "  </script>\n",
              "</div>\n",
              "\n",
              "    </div>\n",
              "  </div>\n"
            ]
          },
          "metadata": {},
          "execution_count": 10
        }
      ],
      "source": [
        "\n",
        "data.corr()"
      ]
    },
    {
      "cell_type": "markdown",
      "metadata": {
        "id": "OAw6eRzi4WPj"
      },
      "source": [
        "5. Use a bar plot to visualize the `coupon` column."
      ]
    },
    {
      "cell_type": "code",
      "execution_count": 11,
      "metadata": {
        "id": "su9cFQPV4WPj",
        "colab": {
          "base_uri": "https://localhost:8080/",
          "height": 622
        },
        "outputId": "10472836-3d00-4cf7-a1d1-a5200276a92b"
      },
      "outputs": [
        {
          "output_type": "stream",
          "name": "stderr",
          "text": [
            "<ipython-input-11-9c3f18092ac1>:1: FutureWarning: The default value of numeric_only in DataFrameGroupBy.sum is deprecated. In a future version, numeric_only will default to False. Either specify numeric_only or select only columns which should be valid for the function.\n",
            "  data.groupby('coupon').sum().plot(y='Y', kind='bar')\n"
          ]
        },
        {
          "output_type": "execute_result",
          "data": {
            "text/plain": [
              "Text(0, 0.5, 'Count of Coupons accepted')"
            ]
          },
          "metadata": {},
          "execution_count": 11
        },
        {
          "output_type": "display_data",
          "data": {
            "text/plain": [
              "<Figure size 640x480 with 1 Axes>"
            ],
            "image/png": "[encoded data removed]"
          },
          "metadata": {}
        }
      ],
      "source": [
        "\n",
        "data.groupby('coupon').sum().plot(y='Y', kind='bar')\n",
        "plt.xticks(rotation=30, horizontalalignment=\"center\")\n",
        "plt.title(\"Total Coupons accepted by the type of coupon\")\n",
        "plt.xlabel(\"Coupon Type\")\n",
        "plt.ylabel(\"Count of Coupons accepted\")"
      ]
    },
    {
      "cell_type": "markdown",
      "metadata": {
        "id": "hxBZY4Fa4WPj"
      },
      "source": [
        "6. Use a histogram to visualize the temperature column."
      ]
    },
    {
      "cell_type": "code",
      "execution_count": 12,
      "metadata": {
        "id": "bcM7Rab64WPj",
        "colab": {
          "base_uri": "https://localhost:8080/",
          "height": 446
        },
        "outputId": "97172dea-ff03-43ba-e6a7-6bc058190333"
      },
      "outputs": [
        {
          "output_type": "display_data",
          "data": {
            "text/plain": [
              "<Figure size 640x480 with 2 Axes>"
            ],
            "image/png": "[encoded data removed]"
          },
          "metadata": {}
        }
      ],
      "source": [
        "data.hist(column='temperature', by='Y')\n",
        "plt.show()"
      ]
    },
    {
      "cell_type": "code",
      "execution_count": null,
      "metadata": {
        "id": "n35WNCJQ4WPj"
      },
      "outputs": [],
      "source": []
    },
    {
      "cell_type": "code",
      "execution_count": null,
      "metadata": {
        "id": "5AilEb1C4WPj"
      },
      "outputs": [],
      "source": []
    },
    {
      "cell_type": "code",
      "execution_count": null,
      "metadata": {
        "id": "Yw6hWmN24WPj"
      },
      "outputs": [],
      "source": []
    },
    {
      "cell_type": "code",
      "execution_count": null,
      "metadata": {
        "id": "0j6r5NcD4WPj"
      },
      "outputs": [],
      "source": []
    },
    {
      "cell_type": "markdown",
      "metadata": {
        "id": "gnyE1IAo4WPk"
      },
      "source": [
        "**Investigating the Bar Coupons**\n",
        "\n",
        "Now, we will lead you through an exploration of just the bar related coupons.  \n",
        "\n",
        "1. Create a new `DataFrame` that contains just the bar coupons.\n"
      ]
    },
    {
      "cell_type": "code",
      "execution_count": 13,
      "metadata": {
        "id": "hyMnDIoY4WPk",
        "colab": {
          "base_uri": "https://localhost:8080/"
        },
        "outputId": "500a1727-815b-40a8-d09d-dd6af1598ce5"
      },
      "outputs": [
        {
          "output_type": "stream",
          "name": "stdout",
          "text": [
            "<class 'pandas.core.frame.DataFrame'>\n",
            "Int64Index: 2017 entries, 9 to 12682\n",
            "Data columns (total 25 columns):\n",
            " #   Column                Non-Null Count  Dtype \n",
            "---  ------                --------------  ----- \n",
            " 0   destination           2017 non-null   object\n",
            " 1   passanger             2017 non-null   int64 \n",
            " 2   weather               2017 non-null   int64 \n",
            " 3   temperature           2017 non-null   int64 \n",
            " 4   time                  2017 non-null   object\n",
            " 5   coupon                2017 non-null   object\n",
            " 6   expiration            2017 non-null   object\n",
            " 7   gender                2017 non-null   int64 \n",
            " 8   age                   2017 non-null   int64 \n",
            " 9   maritalStatus         2017 non-null   object\n",
            " 10  has_children          2017 non-null   int64 \n",
            " 11  education             2017 non-null   int64 \n",
            " 12  occupation            2017 non-null   int64 \n",
            " 13  income                2017 non-null   object\n",
            " 14  Bar                   1996 non-null   object\n",
            " 15  CoffeeHouse           1978 non-null   object\n",
            " 16  CarryAway             1993 non-null   object\n",
            " 17  RestaurantLessThan20  1994 non-null   object\n",
            " 18  Restaurant20To50      1981 non-null   object\n",
            " 19  toCoupon_GEQ5min      2017 non-null   int64 \n",
            " 20  toCoupon_GEQ15min     2017 non-null   int64 \n",
            " 21  toCoupon_GEQ25min     2017 non-null   int64 \n",
            " 22  direction_same        2017 non-null   int64 \n",
            " 23  direction_opp         2017 non-null   int64 \n",
            " 24  Y                     2017 non-null   int64 \n",
            "dtypes: int64(14), object(11)\n",
            "memory usage: 409.7+ KB\n"
          ]
        }
      ],
      "source": [
        "bar_df = data.loc[data['coupon']=='Bar']\n",
        "bar_df.info()"
      ]
    },
    {
      "cell_type": "markdown",
      "metadata": {
        "id": "Xgqbr3LH4WPk"
      },
      "source": [
        "2. What proportion of bar coupons were accepted?\n"
      ]
    },
    {
      "cell_type": "code",
      "execution_count": 14,
      "metadata": {
        "id": "H4gIZQ0O4WPk",
        "colab": {
          "base_uri": "https://localhost:8080/"
        },
        "outputId": "0d7c257c-97f0-4323-8842-72e374d3b74d"
      },
      "outputs": [
        {
          "output_type": "stream",
          "name": "stdout",
          "text": [
            "The proportion of bar coupons that were accepted is 41.0%\n"
          ]
        }
      ],
      "source": [
        "acceptance_bar_df = bar_df.value_counts('Y')\n",
        "pct_acceptance = round(100* acceptance_bar_df[1]/len(bar_df),2)\n",
        "print(f\"The proportion of bar coupons that were accepted is {pct_acceptance}%\")\n"
      ]
    },
    {
      "cell_type": "code",
      "source": [
        "bar_df.value_counts('Bar')"
      ],
      "metadata": {
        "colab": {
          "base_uri": "https://localhost:8080/"
        },
        "id": "BGoVjSsddwON",
        "outputId": "574b7bfa-02dd-41dd-97bf-6e28f78cac10"
      },
      "execution_count": 15,
      "outputs": [
        {
          "output_type": "execute_result",
          "data": {
            "text/plain": [
              "Bar\n",
              "never    830\n",
              "less1    570\n",
              "1~3      397\n",
              "4~8      150\n",
              "gt8       49\n",
              "dtype: int64"
            ]
          },
          "metadata": {},
          "execution_count": 15
        }
      ]
    },
    {
      "cell_type": "markdown",
      "metadata": {
        "id": "f_G9OOAs4WPk"
      },
      "source": [
        "3. Compare the acceptance rate between those who went to a bar 3 or fewer times a month to those who went more.\n"
      ]
    },
    {
      "cell_type": "code",
      "execution_count": 16,
      "metadata": {
        "id": "1v8j91FU4WPk",
        "colab": {
          "base_uri": "https://localhost:8080/"
        },
        "outputId": "5024386e-0f73-4efb-8d31-5afebe40bf5c"
      },
      "outputs": [
        {
          "output_type": "stream",
          "name": "stdout",
          "text": [
            "The acceptance rate of coupon by those who went to a bar 3 or fewer times a month is 52.74%\n",
            "The acceptance rate of coupon by those who went to bar 4 or greater a month is 76.88%\n"
          ]
        }
      ],
      "source": [
        "\n",
        "temp_bar_df = bar_df.loc[bar_df['Bar'].isin([\"Bar never\",\"less1\",\"1~3\"])]\n",
        "\n",
        "acceptance_bar_df = temp_bar_df.value_counts('Y')\n",
        "#print(acceptance_bar_df)\n",
        "#print(len(temp_bar_df))\n",
        "pct_acceptance = round(100* (acceptance_bar_df[1]/len(temp_bar_df)),2)\n",
        "print(f\"The acceptance rate of coupon by those who went to a bar 3 or fewer times a month is {pct_acceptance}%\")\n",
        "\n",
        "temp_bar_df = bar_df.loc[bar_df['Bar'].isin([\"4~8\",\"gt8\"])]\n",
        "\n",
        "acceptance_bar_df = temp_bar_df.value_counts('Y')\n",
        "#print(acceptance_bar_df)\n",
        "pct_acceptance = round(100* acceptance_bar_df[1]/len(temp_bar_df),2)\n",
        "print(f\"The acceptance rate of coupon by those who went to bar 4 or greater a month is {pct_acceptance}%\")\n"
      ]
    },
    {
      "cell_type": "markdown",
      "metadata": {
        "id": "Pal7OV2e4WPk"
      },
      "source": [
        "4. Compare the acceptance rate between drivers who go to a bar more than once a month and are over the age of 25 to the all others.  Is there a difference?\n"
      ]
    },
    {
      "cell_type": "code",
      "execution_count": 17,
      "metadata": {
        "id": "99ueSkkb4WPk",
        "colab": {
          "base_uri": "https://localhost:8080/"
        },
        "outputId": "29de7c05-5344-4d49-c2c5-b7b3300dcde0"
      },
      "outputs": [
        {
          "output_type": "stream",
          "name": "stdout",
          "text": [
            "Y\n",
            "1    292\n",
            "0    128\n",
            "dtype: int64\n",
            "420\n",
            "The acceptance rate of coupon between drivers who go to a bar more than once a month and are over the age of 25 is 69.52%\n",
            "Y\n",
            "1    70\n",
            "0    50\n",
            "dtype: int64\n",
            "120\n",
            "The acceptance rate of coupon between drivers who go to a bar once a month or less and equal to 25 or under is 58.33%\n"
          ]
        }
      ],
      "source": [
        "temp_bar_df = bar_df.loc[(bar_df['Bar'].isin([\"1~3\",\"4~8\",\"gt8\"])) & (bar_df['age'] > 25)]\n",
        "\n",
        "acceptance_bar_df = temp_bar_df.value_counts('Y')\n",
        "print(acceptance_bar_df)\n",
        "print(len(temp_bar_df))\n",
        "pct_acceptance = round(100* (acceptance_bar_df[1]/len(temp_bar_df)),2)\n",
        "print(f\"The acceptance rate of coupon between drivers who go to a bar more than once a month and are over the age of 25 is {pct_acceptance}%\")\n",
        "\n",
        "temp_bar_df = bar_df.loc[(bar_df['Bar'].isin([\"Bar never\",\"less1\"])) & (bar_df['age'] <= 25)]\n",
        "\n",
        "acceptance_bar_df = temp_bar_df.value_counts('Y')\n",
        "print(acceptance_bar_df)\n",
        "print(len(temp_bar_df))\n",
        "pct_acceptance = round(100* (acceptance_bar_df[1]/len(temp_bar_df)),2)\n",
        "print(f\"The acceptance rate of coupon between drivers who go to a bar once a month or less and equal to 25 or under is {pct_acceptance}%\")\n"
      ]
    },
    {
      "cell_type": "markdown",
      "metadata": {
        "id": "zd42i89h4WPk"
      },
      "source": [
        "5. Use the same process to compare the acceptance rate between drivers who go to bars more than once a month and had passengers that were not a kid and had occupations other than farming, fishing, or forestry.\n"
      ]
    },
    {
      "cell_type": "code",
      "execution_count": 18,
      "metadata": {
        "id": "kiFIXMEC4WPk",
        "colab": {
          "base_uri": "https://localhost:8080/"
        },
        "outputId": "dbd72b5f-d9f2-4981-87f2-e0f1a3515dce"
      },
      "outputs": [
        {
          "output_type": "stream",
          "name": "stdout",
          "text": [
            "Y\n",
            "1    120\n",
            "0     50\n",
            "dtype: int64\n",
            "170\n",
            "The acceptance rate of coupon between drivers who go to a bar more than once a month and \n",
            " had passengers that were not a kid and had occupations other than farming, fishing or forestry is 70.59%\n"
          ]
        }
      ],
      "source": [
        "temp_bar_df = bar_df.loc[(bar_df['Bar'].isin([\"1~3\",\"4~8\",\"gt8\"])) & \\\n",
        "                         (bar_df['passanger'].isin([2,3])) & (bar_df['passanger'].isin([2,3])) \\\n",
        "                         & (~bar_df['occupation'].isin([1,25]))]\n",
        "\n",
        "acceptance_bar_df = temp_bar_df.value_counts('Y')\n",
        "print(acceptance_bar_df)\n",
        "print(len(temp_bar_df))\n",
        "pct_acceptance = round(100* (acceptance_bar_df[1]/len(temp_bar_df)),2)\n",
        "print(f\"The acceptance rate of coupon between drivers who go to a bar more than once a month and \\n \\\n",
        "had passengers that were not a kid and had occupations other than farming, fishing or forestry is {pct_acceptance}%\"\n",
        "        )"
      ]
    },
    {
      "cell_type": "code",
      "source": [
        "#Occupation wise bar coupon acceptance count with out any kids passanger\n",
        "bar_df.query('Y==1 and passanger !=4')['occupation'].value_counts().plot(kind='bar',rot=90, color ='green',legend= True)\n",
        "plt.title('Occupation wise bar coupon acceptance count')\n",
        "plt.ylabel('Count')\n",
        "plt.show()\n"
      ],
      "metadata": {
        "colab": {
          "base_uri": "https://localhost:8080/",
          "height": 456
        },
        "id": "Jsbwgb_CvMDd",
        "outputId": "ce770d4c-00fe-42fa-da76-f7890e6046d5"
      },
      "execution_count": 40,
      "outputs": [
        {
          "output_type": "display_data",
          "data": {
            "text/plain": [
              "<Figure size 640x480 with 1 Axes>"
            ],
            "image/png": "[encoded data removed]"
          },
          "metadata": {}
        }
      ]
    },
    {
      "cell_type": "markdown",
      "source": [
        "Occupation mapping\n",
        "convertoccupation = {\n",
        "  r'Unemployed.*': '1',\n",
        "  r'Student.*': '2',\n",
        "  r'Computer.*': '3',\n",
        "  r'Sales.*': '4',\n",
        "  r'Education.*' : '5',\n",
        "  r'Management.*': '6',\n",
        "  r'Office.*': '7',\n",
        "  r'Arts.*': '8',\n",
        "  r'Business.*': '9',\n",
        "  r'Retired.*' : '10',\n",
        "  r'Food.*': '11',\n",
        "  r'Healthcare Practitioners.*': '12',\n",
        "  r'Healthcare Support.*': '13',\n",
        "  r'Community.*': '14',\n",
        "  r'Legal.*' : '15',\n",
        "  r'Transportation.*': '16',\n",
        "  r'Architecture.*': '17',\n",
        "  r'Personal.*': '18',\n",
        "  r'Protective.*': '19',\n",
        "  r'Life.*' : '20',\n",
        "  r'Construction.*': '21',\n",
        "  r'Installation.*': '22',\n",
        "  r'Production.*': '23',\n",
        "  r'Building.*': '24',\n",
        "  r'Farming.*' : '25'"
      ],
      "metadata": {
        "id": "JF8IwUJtv6uW"
      }
    },
    {
      "cell_type": "markdown",
      "metadata": {
        "id": "Ome4b6Qx4WPl"
      },
      "source": [
        "6. Compare the acceptance rates between those drivers who:\n",
        "\n",
        "- go to bars more than once a month, had passengers that were not a kid, and were not widowed *OR*\n",
        "- go to bars more than once a month and are under the age of 30 *OR*\n",
        "- go to cheap restaurants more than 4 times a month and income is less than 50K.\n",
        "\n"
      ]
    },
    {
      "cell_type": "code",
      "execution_count": 19,
      "metadata": {
        "id": "ZFgNjF2c4WPl",
        "colab": {
          "base_uri": "https://localhost:8080/"
        },
        "outputId": "51d414d6-4079-4db7-ba3b-d5430ce58b32"
      },
      "outputs": [
        {
          "output_type": "stream",
          "name": "stdout",
          "text": [
            "Y\n",
            "1    140\n",
            "0     55\n",
            "dtype: int64\n",
            "195\n",
            "The acceptance rate of coupon between drivers who go to a bar more than once a month, \n",
            " had passengers that were not a kid and were not widowed is 71.79%\n",
            "Y\n",
            "1    249\n",
            "0     96\n",
            "dtype: int64\n",
            "345\n",
            "The acceptance rate of coupon between drivers who go to a bar more than once a month, \n",
            " and are under the age of 30 is 72.17%\n",
            "Y\n",
            "1    414\n",
            "0    244\n",
            "dtype: int64\n",
            "658\n",
            "The acceptance rate of coupon between drivers who go to cheap restaurants more than 4 times a month  \n",
            " and income is less than 50K is 62.92%\n"
          ]
        }
      ],
      "source": [
        "temp_bar_df = bar_df.loc[(bar_df['Bar'].isin([\"1~3\",\"4~8\",\"gt8\"])) & (bar_df['passanger'].isin([2,3])) & (~bar_df['maritalStatus'].isin([\"Widowed\"])) ]\n",
        "\n",
        "acceptance_bar_df = temp_bar_df.value_counts('Y')\n",
        "print(acceptance_bar_df)\n",
        "print(len(temp_bar_df))\n",
        "pct_acceptance = round(100* (acceptance_bar_df[1]/len(temp_bar_df)),2)\n",
        "print(f\"The acceptance rate of coupon between drivers who go to a bar more than once a month, \\n \\\n",
        "had passengers that were not a kid and were not widowed is {pct_acceptance}%\"\n",
        "        )\n",
        "\n",
        "\n",
        "temp_bar_df = bar_df.loc[(bar_df['Bar'].isin([\"1~3\",\"4~8\",\"gt8\"])) & \\\n",
        "                          (bar_df['age'] < 30) ]\n",
        "\n",
        "acceptance_bar_df = temp_bar_df.value_counts('Y')\n",
        "print(acceptance_bar_df)\n",
        "print(len(temp_bar_df))\n",
        "pct_acceptance = round(100* (acceptance_bar_df[1]/len(temp_bar_df)),2)\n",
        "print(f\"The acceptance rate of coupon between drivers who go to a bar more than once a month, \\n \\\n",
        "and are under the age of 30 is {pct_acceptance}%\"\n",
        "        )\n",
        "\n",
        "\n",
        "temp_cheaprestaurant_df = data.loc[(data['RestaurantLessThan20'].isin([\"4~8\", \"gt8\"])) & \\\n",
        "                         (data['income'].isin([\"$25000 - $374999\",\"$37500 - $49999\"]))  ]\n",
        "\n",
        "acceptance_cheaprestaurant_df = temp_cheaprestaurant_df.value_counts('Y')\n",
        "print(acceptance_cheaprestaurant_df)\n",
        "print(len(temp_cheaprestaurant_df))\n",
        "pct_acceptance = round(100* (acceptance_cheaprestaurant_df[1]/len(temp_cheaprestaurant_df)),2)\n",
        "print(f\"The acceptance rate of coupon between drivers who go to cheap restaurants more than 4 times a month  \\n \\\n",
        "and income is less than 50K is {pct_acceptance}%\"\n",
        "        )\n",
        "\n"
      ]
    },
    {
      "cell_type": "markdown",
      "metadata": {
        "id": "sVYEI9Ao4WPl"
      },
      "source": [
        "7.  Based on these observations, what do you hypothesize about drivers who accepted the bar coupons?"
      ]
    },
    {
      "cell_type": "markdown",
      "source": [
        "# The best demographic to target will be those who visit bar more than once a month and under the age group of 30. The acceptance rate for this category is 72.17%. Alternatively targeting drivers who go to bar 4 or more times per month will also yield the maximum chances of coupon being accepted.\n",
        "\n",
        "# The acceptance rate of bar coupons is relatively lesser compared to other categories. For instance we see higher acceptance rate for carry out , coffee house and cheap restaurants viz. 73.55%, 49.94% and 70.71% respectively. Even for fine dining restaurants the acceptance rate is at 44.13%, higher compared to acceptance of bar coupon which is at 41%"
      ],
      "metadata": {
        "id": "8z_mi-wGKmJ7"
      }
    },
    {
      "cell_type": "markdown",
      "metadata": {
        "id": "rHYXuaDj4WPl"
      },
      "source": [
        "### Independent Investigation\n",
        "\n",
        "Using the bar coupon example as motivation, you are to explore one of the other coupon groups and try to determine the characteristics of passengers who accept the coupons.  "
      ]
    },
    {
      "cell_type": "markdown",
      "source": [
        "1. Create a new Data Frame that contains only the Coffee House coupons"
      ],
      "metadata": {
        "id": "vzIVn23xsVZo"
      }
    },
    {
      "cell_type": "code",
      "execution_count": 20,
      "metadata": {
        "id": "PQIfHkwZ4WPl",
        "colab": {
          "base_uri": "https://localhost:8080/"
        },
        "outputId": "cfc72082-7864-44e2-d303-338806f4a0ec"
      },
      "outputs": [
        {
          "output_type": "stream",
          "name": "stdout",
          "text": [
            "<class 'pandas.core.frame.DataFrame'>\n",
            "Int64Index: 3996 entries, 1 to 12681\n",
            "Data columns (total 25 columns):\n",
            " #   Column                Non-Null Count  Dtype \n",
            "---  ------                --------------  ----- \n",
            " 0   destination           3996 non-null   object\n",
            " 1   passanger             3996 non-null   int64 \n",
            " 2   weather               3996 non-null   int64 \n",
            " 3   temperature           3996 non-null   int64 \n",
            " 4   time                  3996 non-null   object\n",
            " 5   coupon                3996 non-null   object\n",
            " 6   expiration            3996 non-null   object\n",
            " 7   gender                3996 non-null   int64 \n",
            " 8   age                   3996 non-null   int64 \n",
            " 9   maritalStatus         3996 non-null   object\n",
            " 10  has_children          3996 non-null   int64 \n",
            " 11  education             3996 non-null   int64 \n",
            " 12  occupation            3996 non-null   int64 \n",
            " 13  income                3996 non-null   object\n",
            " 14  Bar                   3959 non-null   object\n",
            " 15  CoffeeHouse           3924 non-null   object\n",
            " 16  CarryAway             3939 non-null   object\n",
            " 17  RestaurantLessThan20  3946 non-null   object\n",
            " 18  Restaurant20To50      3941 non-null   object\n",
            " 19  toCoupon_GEQ5min      3996 non-null   int64 \n",
            " 20  toCoupon_GEQ15min     3996 non-null   int64 \n",
            " 21  toCoupon_GEQ25min     3996 non-null   int64 \n",
            " 22  direction_same        3996 non-null   int64 \n",
            " 23  direction_opp         3996 non-null   int64 \n",
            " 24  Y                     3996 non-null   int64 \n",
            "dtypes: int64(14), object(11)\n",
            "memory usage: 811.7+ KB\n"
          ]
        }
      ],
      "source": [
        "coffee_df = data.loc[data['coupon']=='Coffee House']\n",
        "coffee_df.info()"
      ]
    },
    {
      "cell_type": "markdown",
      "source": [
        "1. What proportion of users accept \"coffee house\" coupons"
      ],
      "metadata": {
        "id": "kXRW8WrEnsMj"
      }
    },
    {
      "cell_type": "code",
      "source": [
        "acceptance_coffee_df = coffee_df.value_counts('Y')\n",
        "pct_acceptance = round(100* acceptance_coffee_df[1]/len(coffee_df),2)\n",
        "print(f\"The proportion of coffee coupons that were accepted is {pct_acceptance}%\")\n"
      ],
      "metadata": {
        "colab": {
          "base_uri": "https://localhost:8080/"
        },
        "id": "bhVZlJ45trmt",
        "outputId": "01e691d4-a77e-4920-ae3a-8c1f215d8f19"
      },
      "execution_count": 21,
      "outputs": [
        {
          "output_type": "stream",
          "name": "stdout",
          "text": [
            "The proportion of coffee coupons that were accepted is 49.92%\n"
          ]
        }
      ]
    },
    {
      "cell_type": "code",
      "source": [
        "coffee_df.loc[coffee_df['Y']==1].value_counts('CoffeeHouse')"
      ],
      "metadata": {
        "colab": {
          "base_uri": "https://localhost:8080/"
        },
        "id": "D5RIozW4ujTZ",
        "outputId": "2ef2a005-1bed-4a2b-ca80-6394de0f530a"
      },
      "execution_count": 22,
      "outputs": [
        {
          "output_type": "execute_result",
          "data": {
            "text/plain": [
              "CoffeeHouse\n",
              "1~3      675\n",
              "less1    518\n",
              "4~8      369\n",
              "gt8      225\n",
              "never    175\n",
              "dtype: int64"
            ]
          },
          "metadata": {},
          "execution_count": 22
        }
      ]
    },
    {
      "cell_type": "markdown",
      "source": [
        "2. Compare the acceptance rate between those who went to a cofee 3 or fewer times a month to those who went more."
      ],
      "metadata": {
        "id": "2V8rLejmo-wA"
      }
    },
    {
      "cell_type": "code",
      "source": [
        "temp_coffee_df = coffee_df.loc[coffee_df['CoffeeHouse'].isin([\"never\",\"less1\",\"1~3\"])]\n",
        "pct_acceptance = round(100* (acceptance_coffee_df[1]/len(temp_coffee_df)),2)\n",
        "print(f\"The acceptance rate of coupon by those who went to a Coffee House 3 or fewer times a month is {pct_acceptance}%\")\n",
        "\n",
        "temp_coffee_df = coffee_df.loc[coffee_df['CoffeeHouse'].isin([\"4~8\",\"gt8\"])]\n",
        "acceptance_coffee_df = temp_coffee_df.value_counts('Y')\n",
        "\n",
        "pct_acceptance = round(100* acceptance_coffee_df[1]/len(temp_coffee_df),2)\n",
        "print(f\"The acceptance rate of coupon by those who went to Coffee House 4 or greater a month is {pct_acceptance}%\")\n"
      ],
      "metadata": {
        "colab": {
          "base_uri": "https://localhost:8080/"
        },
        "id": "8E1tSdg27wBj",
        "outputId": "1d80e543-15f5-4076-e2fb-e7faae6fe3ae"
      },
      "execution_count": 28,
      "outputs": [
        {
          "output_type": "stream",
          "name": "stdout",
          "text": [
            "The acceptance rate of coupon by those who went to a Coffee House 3 or fewer times a month is 44.94%\n",
            "The acceptance rate of coupon by those who went to Coffee House 4 or greater a month is 67.5%\n"
          ]
        }
      ]
    },
    {
      "cell_type": "markdown",
      "source": [
        "3. Compare the acceptance rate between drivers who go to a Coffee House more than once a month and are over the age of 25 to the all others. Is there a difference?"
      ],
      "metadata": {
        "id": "bJY8BB8cpSzd"
      }
    },
    {
      "cell_type": "code",
      "source": [
        "temp_coffee_df = coffee_df.loc[(coffee_df['CoffeeHouse'].isin([\"1~3\",\"4~8\",\"gt8\"])) & (coffee_df['age'] > 25)]\n",
        "\n",
        "acceptance_coffee_df = temp_coffee_df.value_counts('Y')\n",
        "print(acceptance_coffee_df)\n",
        "print(len(temp_coffee_df))\n",
        "pct_acceptance = round(100* (acceptance_coffee_df[1]/len(temp_coffee_df)),2)\n",
        "print(f\"The acceptance rate of coupon between drivers who go to a coffee more than once a month and are over the age of 25 is {pct_acceptance}%\")\n",
        "\n",
        "temp_coffee_df = coffee_df.loc[(coffee_df['CoffeeHouse'].isin([\"never\",\"less1\"])) & (coffee_df['age'] <= 25)]\n",
        "\n",
        "acceptance_coffee_df = temp_coffee_df.value_counts('Y')\n",
        "print(acceptance_coffee_df)\n",
        "print(len(temp_coffee_df))\n",
        "pct_acceptance = round(100* (acceptance_coffee_df[1]/len(temp_coffee_df)),2)\n",
        "print(f\"The acceptance rate of coupon between drivers who go to a coffee once a month or less and equal to 25 or under is {pct_acceptance}%\")"
      ],
      "metadata": {
        "colab": {
          "base_uri": "https://localhost:8080/"
        },
        "id": "kX7phGG7Xi_M",
        "outputId": "566fae11-3b98-47a4-c15a-e02db92d890a"
      },
      "execution_count": 31,
      "outputs": [
        {
          "output_type": "stream",
          "name": "stdout",
          "text": [
            "Y\n",
            "1    867\n",
            "0    491\n",
            "dtype: int64\n",
            "1358\n",
            "The acceptance rate of coupon between drivers who go to a coffee more than once a month and are over the age of 25 is 63.84%\n",
            "Y\n",
            "0    304\n",
            "1    166\n",
            "dtype: int64\n",
            "470\n",
            "The acceptance rate of coupon between drivers who go to a coffee once a month or less and equal to 25 or under is 35.32%\n"
          ]
        }
      ]
    },
    {
      "cell_type": "code",
      "execution_count": 20,
      "metadata": {
        "id": "GUI0Ai7o4WPl",
        "colab": {
          "base_uri": "https://localhost:8080/"
        },
        "outputId": "54b71ca5-3060-4b4b-d795-5f65eba8c76b"
      },
      "outputs": [
        {
          "output_type": "execute_result",
          "data": {
            "text/plain": [
              "1.0"
            ]
          },
          "metadata": {},
          "execution_count": 20
        }
      ],
      "source": []
    },
    {
      "cell_type": "markdown",
      "source": [
        "Compare acceptance are of coupon  among those who travel alone or with friends"
      ],
      "metadata": {
        "id": "zmKGtUxVbUAp"
      }
    },
    {
      "cell_type": "code",
      "execution_count": 36,
      "metadata": {
        "id": "LVEkPyjF4WPm",
        "colab": {
          "base_uri": "https://localhost:8080/"
        },
        "outputId": "e416ea03-6293-4121-8498-bfbdde883df9"
      },
      "outputs": [
        {
          "output_type": "stream",
          "name": "stdout",
          "text": [
            "Y\n",
            "0    1763\n",
            "1    1721\n",
            "dtype: int64\n",
            "3484\n",
            "The acceptance rate of coupon between drivers who go to a coffee House alone or with friends is 49.4%\n"
          ]
        }
      ],
      "source": [
        "temp_coffee_df = coffee_df.loc[(coffee_df['passanger'].isin([1,2]))]\n",
        "\n",
        "acceptance_coffee_df = temp_coffee_df.value_counts('Y')\n",
        "print(acceptance_coffee_df)\n",
        "print(len(temp_coffee_df))\n",
        "pct_acceptance = round(100* (acceptance_coffee_df[1]/len(temp_coffee_df)),2)\n",
        "print(f\"The acceptance rate of coupon between drivers who go to a coffee House alone or with friends is {pct_acceptance}%\")\n",
        "\n"
      ]
    },
    {
      "cell_type": "code",
      "execution_count": null,
      "metadata": {
        "id": "_aI8AY-S4WPr"
      },
      "outputs": [],
      "source": []
    },
    {
      "cell_type": "markdown",
      "source": [
        "Compare acceptance rate when the weather is Sunny"
      ],
      "metadata": {
        "id": "HE1tqSEIbgV_"
      }
    },
    {
      "cell_type": "code",
      "execution_count": 39,
      "metadata": {
        "id": "3MFwV8CM4WPr",
        "colab": {
          "base_uri": "https://localhost:8080/"
        },
        "outputId": "67ceadfe-d5e8-4092-839c-9e4cd211ce99"
      },
      "outputs": [
        {
          "output_type": "stream",
          "name": "stdout",
          "text": [
            "Y\n",
            "1    1746\n",
            "0    1721\n",
            "dtype: int64\n",
            "3467\n",
            "The acceptance rate of coupon between drivers who go to a coffee House when the weather is Sunny is 50.36%\n"
          ]
        }
      ],
      "source": [
        "temp_coffee_df = coffee_df.loc[(coffee_df['weather'].isin([1]))]\n",
        "\n",
        "acceptance_coffee_df = temp_coffee_df.value_counts('Y')\n",
        "print(acceptance_coffee_df)\n",
        "print(len(temp_coffee_df))\n",
        "pct_acceptance = round(100* (acceptance_coffee_df[1]/len(temp_coffee_df)),2)\n",
        "print(f\"The acceptance rate of coupon between drivers who go to a coffee House when the weather is Sunny is {pct_acceptance}%\")\n"
      ]
    },
    {
      "cell_type": "markdown",
      "source": [
        "Inference for Coffee House acceptance\n",
        "\n",
        "\n",
        "1. acceptance of coupon is high among those who have been to the coffee house less than 3 times a month\n",
        "2. acceptance of coupon is high among those who travel alone or with friends\n",
        "3. Acceptance rate is high if weather is Sunny\n",
        "4. acceptance rate is high if people travel to no urgent place or to work\n",
        "\n"
      ],
      "metadata": {
        "id": "b1zVxGJHwJRk"
      }
    }
  ],
  "metadata": {
    "kernelspec": {
      "display_name": "Python 3",
      "language": "python",
      "name": "python3"
    },
    "language_info": {
      "codemirror_mode": {
        "name": "ipython",
        "version": 3
      },
      "file_extension": ".py",
      "mimetype": "text/x-python",
      "name": "python",
      "nbconvert_exporter": "python",
      "pygments_lexer": "ipython3",
      "version": "3.8.8"
    },
    "colab": {
      "provenance": [],
      "include_colab_link": true
    }
  },
  "nbformat": 4,
  "nbformat_minor": 0
}